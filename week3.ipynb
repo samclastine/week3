{
 "cells": [
  {
   "cell_type": "code",
   "execution_count": 90,
   "metadata": {},
   "outputs": [],
   "source": [
    "import pandas as pd\n",
    "import numpy as np\n",
    "import matplotlib.pyplot as plt\n",
    "import seaborn as sns\n",
    "import statsmodels.api as sm\n",
    "from matplotlib.gridspec import GridSpec\n",
    "from scipy.stats import norm\n",
    "import scipy.stats as stats\n",
    "\n"
   ]
  },
  {
   "cell_type": "code",
   "execution_count": 91,
   "metadata": {},
   "outputs": [],
   "source": [
    "df1 = pd.read_csv(r\"C:\\Users\\clastine.LAPTOP-S2KU5R5U\\Desktop\\PDS-1\\week3\\Data\\accord_sedan.csv\")"
   ]
  },
  {
   "cell_type": "markdown",
   "metadata": {},
   "source": [
    "#### 1. Load the data on properties of cars  into a pd dataframe"
   ]
  },
  {
   "cell_type": "code",
   "execution_count": 92,
   "metadata": {},
   "outputs": [
    {
     "data": {
      "text/html": [
       "<div>\n",
       "<style scoped>\n",
       "    .dataframe tbody tr th:only-of-type {\n",
       "        vertical-align: middle;\n",
       "    }\n",
       "\n",
       "    .dataframe tbody tr th {\n",
       "        vertical-align: top;\n",
       "    }\n",
       "\n",
       "    .dataframe thead th {\n",
       "        text-align: right;\n",
       "    }\n",
       "</style>\n",
       "<table border=\"1\" class=\"dataframe\">\n",
       "  <thead>\n",
       "    <tr style=\"text-align: right;\">\n",
       "      <th></th>\n",
       "      <th>price</th>\n",
       "      <th>mileage</th>\n",
       "      <th>year</th>\n",
       "      <th>trim</th>\n",
       "      <th>engine</th>\n",
       "      <th>transmission</th>\n",
       "    </tr>\n",
       "  </thead>\n",
       "  <tbody>\n",
       "    <tr>\n",
       "      <th>0</th>\n",
       "      <td>14995</td>\n",
       "      <td>67697</td>\n",
       "      <td>2006</td>\n",
       "      <td>ex</td>\n",
       "      <td>4 Cyl</td>\n",
       "      <td>Manual</td>\n",
       "    </tr>\n",
       "    <tr>\n",
       "      <th>1</th>\n",
       "      <td>11988</td>\n",
       "      <td>73738</td>\n",
       "      <td>2006</td>\n",
       "      <td>ex</td>\n",
       "      <td>4 Cyl</td>\n",
       "      <td>Manual</td>\n",
       "    </tr>\n",
       "    <tr>\n",
       "      <th>2</th>\n",
       "      <td>11999</td>\n",
       "      <td>80313</td>\n",
       "      <td>2006</td>\n",
       "      <td>lx</td>\n",
       "      <td>4 Cyl</td>\n",
       "      <td>Automatic</td>\n",
       "    </tr>\n",
       "    <tr>\n",
       "      <th>3</th>\n",
       "      <td>12995</td>\n",
       "      <td>86096</td>\n",
       "      <td>2006</td>\n",
       "      <td>lx</td>\n",
       "      <td>4 Cyl</td>\n",
       "      <td>Automatic</td>\n",
       "    </tr>\n",
       "    <tr>\n",
       "      <th>4</th>\n",
       "      <td>11333</td>\n",
       "      <td>79607</td>\n",
       "      <td>2006</td>\n",
       "      <td>lx</td>\n",
       "      <td>4 Cyl</td>\n",
       "      <td>Automatic</td>\n",
       "    </tr>\n",
       "    <tr>\n",
       "      <th>...</th>\n",
       "      <td>...</td>\n",
       "      <td>...</td>\n",
       "      <td>...</td>\n",
       "      <td>...</td>\n",
       "      <td>...</td>\n",
       "      <td>...</td>\n",
       "    </tr>\n",
       "    <tr>\n",
       "      <th>412</th>\n",
       "      <td>12456</td>\n",
       "      <td>67564</td>\n",
       "      <td>2006</td>\n",
       "      <td>lx</td>\n",
       "      <td>4 Cyl</td>\n",
       "      <td>Automatic</td>\n",
       "    </tr>\n",
       "    <tr>\n",
       "      <th>413</th>\n",
       "      <td>10995</td>\n",
       "      <td>69775</td>\n",
       "      <td>2006</td>\n",
       "      <td>ex</td>\n",
       "      <td>4 Cyl</td>\n",
       "      <td>Automatic</td>\n",
       "    </tr>\n",
       "    <tr>\n",
       "      <th>414</th>\n",
       "      <td>16000</td>\n",
       "      <td>77997</td>\n",
       "      <td>2006</td>\n",
       "      <td>exl</td>\n",
       "      <td>4 Cyl</td>\n",
       "      <td>Automatic</td>\n",
       "    </tr>\n",
       "    <tr>\n",
       "      <th>415</th>\n",
       "      <td>14700</td>\n",
       "      <td>61892</td>\n",
       "      <td>2006</td>\n",
       "      <td>ex</td>\n",
       "      <td>4 Cyl</td>\n",
       "      <td>Automatic</td>\n",
       "    </tr>\n",
       "    <tr>\n",
       "      <th>416</th>\n",
       "      <td>14755</td>\n",
       "      <td>43034</td>\n",
       "      <td>2006</td>\n",
       "      <td>ex</td>\n",
       "      <td>4 Cyl</td>\n",
       "      <td>Automatic</td>\n",
       "    </tr>\n",
       "  </tbody>\n",
       "</table>\n",
       "<p>417 rows × 6 columns</p>\n",
       "</div>"
      ],
      "text/plain": [
       "     price  mileage  year trim engine transmission\n",
       "0    14995    67697  2006   ex  4 Cyl       Manual\n",
       "1    11988    73738  2006   ex  4 Cyl       Manual\n",
       "2    11999    80313  2006   lx  4 Cyl    Automatic\n",
       "3    12995    86096  2006   lx  4 Cyl    Automatic\n",
       "4    11333    79607  2006   lx  4 Cyl    Automatic\n",
       "..     ...      ...   ...  ...    ...          ...\n",
       "412  12456    67564  2006   lx  4 Cyl    Automatic\n",
       "413  10995    69775  2006   ex  4 Cyl    Automatic\n",
       "414  16000    77997  2006  exl  4 Cyl    Automatic\n",
       "415  14700    61892  2006   ex  4 Cyl    Automatic\n",
       "416  14755    43034  2006   ex  4 Cyl    Automatic\n",
       "\n",
       "[417 rows x 6 columns]"
      ]
     },
     "execution_count": 92,
     "metadata": {},
     "output_type": "execute_result"
    }
   ],
   "source": [
    "df1"
   ]
  },
  {
   "cell_type": "markdown",
   "metadata": {},
   "source": [
    "#### 2. Plot suitable graphs to show the distributions and help indicate outliers of priceand mileage (e.g. with boxplots) and their joint distribution (e.g. with a scatterplot)"
   ]
  },
  {
   "cell_type": "code",
   "execution_count": 93,
   "metadata": {},
   "outputs": [
    {
     "data": {
      "text/plain": [
       "(array([ 5., 15., 21., 60., 73., 83., 74., 45., 20., 21.]),\n",
       " array([ 19160. ,  32170.9,  45181.8,  58192.7,  71203.6,  84214.5,\n",
       "         97225.4, 110236.3, 123247.2, 136258.1, 149269. ]),\n",
       " <BarContainer object of 10 artists>)"
      ]
     },
     "execution_count": 93,
     "metadata": {},
     "output_type": "execute_result"
    },
    {
     "data": {
      "image/png": "[encoded data removed]",
      "text/plain": [
       "<Figure size 432x288 with 2 Axes>"
      ]
     },
     "metadata": {
      "needs_background": "light"
     },
     "output_type": "display_data"
    },
    {
     "data": {
      "image/png": "[encoded data removed]",
      "text/plain": [
       "<Figure size 432x288 with 3 Axes>"
      ]
     },
     "metadata": {
      "needs_background": "light"
     },
     "output_type": "display_data"
    }
   ],
   "source": [
    "f1, (ax1, ax2) = plt.subplots(1, 2, sharey=True)\n",
    "ax1.boxplot(df1.price)\n",
    "ax1.set_title('price')\n",
    "ax2.boxplot(df1.mileage)\n",
    "ax2.set_title('mileage')\n",
    "\n",
    "\n",
    "f2=plt.figure()\n",
    "gs=GridSpec(5,5)\n",
    "\n",
    "ax_scatter = f2.add_subplot(gs[2:5, 0:3])\n",
    "ax_hist_x = f2.add_subplot(gs[0,0:3])\n",
    "ax_hist_y = f2.add_subplot(gs[2:5, 4])\n",
    "\n",
    "ax_scatter.scatter(df1.price,df1.mileage)\n",
    "ax_hist_x.hist(df1['price'])\n",
    "ax_hist_y.hist(df1['mileage'], orientation = 'horizontal')\n"
   ]
  },
  {
   "cell_type": "code",
   "execution_count": 96,
   "metadata": {},
   "outputs": [
    {
     "data": {
      "text/plain": [
       "2221.0"
      ]
     },
     "execution_count": 96,
     "metadata": {},
     "output_type": "execute_result"
    }
   ],
   "source": [
    "Q1 = np.percentile(df1.price, 25,interpolation = 'midpoint')\n",
    "Q3 = np.percentile(df1.price, 75,interpolation = 'midpoint')\n",
    "IQR = Q3 - Q1\n",
    "IQR"
   ]
  },
  {
   "cell_type": "code",
   "execution_count": 97,
   "metadata": {},
   "outputs": [],
   "source": [
    "upper = Q3 +1.5*IQR\n",
    "lower = Q1 - 1.5*IQR"
   ]
  },
  {
   "cell_type": "code",
   "execution_count": 107,
   "metadata": {},
   "outputs": [
    {
     "data": {
      "text/plain": [
       "(array([234], dtype=int64),)"
      ]
     },
     "execution_count": 107,
     "metadata": {},
     "output_type": "execute_result"
    }
   ],
   "source": [
    "upperDataPoint = df1.price >= upper\n",
    "lowerDataPoint = df1.price <= lower\n",
    "outlierupper = np.where(lowerDataPoint)\n",
    "outlierupper\n",
    "\n"
   ]
  },
  {
   "cell_type": "code",
   "execution_count": 106,
   "metadata": {},
   "outputs": [
    {
     "data": {
      "text/plain": [
       "{'whiskers': [<matplotlib.lines.Line2D at 0x29605904640>,\n",
       "  <matplotlib.lines.Line2D at 0x29605904a90>,\n",
       "  <matplotlib.lines.Line2D at 0x29605966790>,\n",
       "  <matplotlib.lines.Line2D at 0x296059663a0>],\n",
       " 'caps': [<matplotlib.lines.Line2D at 0x29605904910>,\n",
       "  <matplotlib.lines.Line2D at 0x296059666d0>,\n",
       "  <matplotlib.lines.Line2D at 0x2960592f0d0>,\n",
       "  <matplotlib.lines.Line2D at 0x2960592ff70>],\n",
       " 'boxes': [<matplotlib.patches.PathPatch at 0x29605904070>,\n",
       "  <matplotlib.patches.PathPatch at 0x296059668b0>],\n",
       " 'medians': [<matplotlib.lines.Line2D at 0x29605966760>,\n",
       "  <matplotlib.lines.Line2D at 0x2960592f8e0>],\n",
       " 'fliers': [<matplotlib.lines.Line2D at 0x29605966c10>,\n",
       "  <matplotlib.lines.Line2D at 0x2960592fee0>],\n",
       " 'means': []}"
      ]
     },
     "execution_count": 106,
     "metadata": {},
     "output_type": "execute_result"
    },
    {
     "data": {
      "image/png": "[encoded data removed]",
      "text/plain": [
       "<Figure size 432x288 with 1 Axes>"
      ]
     },
     "metadata": {
      "needs_background": "light"
     },
     "output_type": "display_data"
    }
   ],
   "source": [
    "plt.boxplot([df1.price,df1.mileage],notch=True, patch_artist=True,flierprops={'marker': 'o', 'markersize': 10, 'markerfacecolor': 'fuchsia'})"
   ]
  },
  {
   "cell_type": "code",
   "execution_count": 3,
   "metadata": {},
   "outputs": [],
   "source": [
    "df2=pd.read_csv(r\"C:\\Users\\clastine.LAPTOP-S2KU5R5U\\Desktop\\PDS-1\\week3\\Data\\TB_burden_countries_2014-09-29 (2).csv\")"
   ]
  },
  {
   "cell_type": "code",
   "execution_count": 4,
   "metadata": {},
   "outputs": [
    {
     "data": {
      "text/html": [
       "<div>\n",
       "<style scoped>\n",
       "    .dataframe tbody tr th:only-of-type {\n",
       "        vertical-align: middle;\n",
       "    }\n",
       "\n",
       "    .dataframe tbody tr th {\n",
       "        vertical-align: top;\n",
       "    }\n",
       "\n",
       "    .dataframe thead th {\n",
       "        text-align: right;\n",
       "    }\n",
       "</style>\n",
       "<table border=\"1\" class=\"dataframe\">\n",
       "  <thead>\n",
       "    <tr style=\"text-align: right;\">\n",
       "      <th></th>\n",
       "      <th>country</th>\n",
       "      <th>iso2</th>\n",
       "      <th>iso3</th>\n",
       "      <th>iso_numeric</th>\n",
       "      <th>g_whoregion</th>\n",
       "      <th>year</th>\n",
       "      <th>e_pop_num</th>\n",
       "      <th>e_prev_100k</th>\n",
       "      <th>e_prev_100k_lo</th>\n",
       "      <th>e_prev_100k_hi</th>\n",
       "      <th>...</th>\n",
       "      <th>e_inc_tbhiv_100k</th>\n",
       "      <th>e_inc_tbhiv_100k_lo</th>\n",
       "      <th>e_inc_tbhiv_100k_hi</th>\n",
       "      <th>e_inc_tbhiv_num</th>\n",
       "      <th>e_inc_tbhiv_num_lo</th>\n",
       "      <th>e_inc_tbhiv_num_hi</th>\n",
       "      <th>source_tbhiv</th>\n",
       "      <th>c_cdr</th>\n",
       "      <th>c_cdr_lo</th>\n",
       "      <th>c_cdr_hi</th>\n",
       "    </tr>\n",
       "  </thead>\n",
       "  <tbody>\n",
       "    <tr>\n",
       "      <th>0</th>\n",
       "      <td>Afghanistan</td>\n",
       "      <td>AF</td>\n",
       "      <td>AFG</td>\n",
       "      <td>4</td>\n",
       "      <td>EMR</td>\n",
       "      <td>1990</td>\n",
       "      <td>11731193</td>\n",
       "      <td>327.0</td>\n",
       "      <td>112.0</td>\n",
       "      <td>655.0</td>\n",
       "      <td>...</td>\n",
       "      <td>0.35</td>\n",
       "      <td>0.22</td>\n",
       "      <td>0.52</td>\n",
       "      <td>41.0</td>\n",
       "      <td>25.0</td>\n",
       "      <td>60.0</td>\n",
       "      <td>Model</td>\n",
       "      <td>20.0</td>\n",
       "      <td>13.0</td>\n",
       "      <td>32.0</td>\n",
       "    </tr>\n",
       "    <tr>\n",
       "      <th>1</th>\n",
       "      <td>Afghanistan</td>\n",
       "      <td>AF</td>\n",
       "      <td>AFG</td>\n",
       "      <td>4</td>\n",
       "      <td>EMR</td>\n",
       "      <td>1991</td>\n",
       "      <td>12612043</td>\n",
       "      <td>359.0</td>\n",
       "      <td>172.0</td>\n",
       "      <td>613.0</td>\n",
       "      <td>...</td>\n",
       "      <td>0.36</td>\n",
       "      <td>0.19</td>\n",
       "      <td>0.58</td>\n",
       "      <td>45.0</td>\n",
       "      <td>24.0</td>\n",
       "      <td>73.0</td>\n",
       "      <td>Model</td>\n",
       "      <td>97.0</td>\n",
       "      <td>77.0</td>\n",
       "      <td>120.0</td>\n",
       "    </tr>\n",
       "    <tr>\n",
       "      <th>2</th>\n",
       "      <td>Afghanistan</td>\n",
       "      <td>AF</td>\n",
       "      <td>AFG</td>\n",
       "      <td>4</td>\n",
       "      <td>EMR</td>\n",
       "      <td>1992</td>\n",
       "      <td>13811876</td>\n",
       "      <td>387.0</td>\n",
       "      <td>169.0</td>\n",
       "      <td>693.0</td>\n",
       "      <td>...</td>\n",
       "      <td>0.37</td>\n",
       "      <td>0.19</td>\n",
       "      <td>0.62</td>\n",
       "      <td>51.0</td>\n",
       "      <td>26.0</td>\n",
       "      <td>86.0</td>\n",
       "      <td>Model</td>\n",
       "      <td>NaN</td>\n",
       "      <td>NaN</td>\n",
       "      <td>NaN</td>\n",
       "    </tr>\n",
       "    <tr>\n",
       "      <th>3</th>\n",
       "      <td>Afghanistan</td>\n",
       "      <td>AF</td>\n",
       "      <td>AFG</td>\n",
       "      <td>4</td>\n",
       "      <td>EMR</td>\n",
       "      <td>1993</td>\n",
       "      <td>15175325</td>\n",
       "      <td>412.0</td>\n",
       "      <td>186.0</td>\n",
       "      <td>724.0</td>\n",
       "      <td>...</td>\n",
       "      <td>0.38</td>\n",
       "      <td>0.20</td>\n",
       "      <td>0.63</td>\n",
       "      <td>58.0</td>\n",
       "      <td>30.0</td>\n",
       "      <td>95.0</td>\n",
       "      <td>Model</td>\n",
       "      <td>NaN</td>\n",
       "      <td>NaN</td>\n",
       "      <td>NaN</td>\n",
       "    </tr>\n",
       "    <tr>\n",
       "      <th>4</th>\n",
       "      <td>Afghanistan</td>\n",
       "      <td>AF</td>\n",
       "      <td>AFG</td>\n",
       "      <td>4</td>\n",
       "      <td>EMR</td>\n",
       "      <td>1994</td>\n",
       "      <td>16485018</td>\n",
       "      <td>431.0</td>\n",
       "      <td>199.0</td>\n",
       "      <td>751.0</td>\n",
       "      <td>...</td>\n",
       "      <td>0.40</td>\n",
       "      <td>0.21</td>\n",
       "      <td>0.64</td>\n",
       "      <td>65.0</td>\n",
       "      <td>35.0</td>\n",
       "      <td>100.0</td>\n",
       "      <td>Model</td>\n",
       "      <td>NaN</td>\n",
       "      <td>NaN</td>\n",
       "      <td>NaN</td>\n",
       "    </tr>\n",
       "    <tr>\n",
       "      <th>...</th>\n",
       "      <td>...</td>\n",
       "      <td>...</td>\n",
       "      <td>...</td>\n",
       "      <td>...</td>\n",
       "      <td>...</td>\n",
       "      <td>...</td>\n",
       "      <td>...</td>\n",
       "      <td>...</td>\n",
       "      <td>...</td>\n",
       "      <td>...</td>\n",
       "      <td>...</td>\n",
       "      <td>...</td>\n",
       "      <td>...</td>\n",
       "      <td>...</td>\n",
       "      <td>...</td>\n",
       "      <td>...</td>\n",
       "      <td>...</td>\n",
       "      <td>...</td>\n",
       "      <td>...</td>\n",
       "      <td>...</td>\n",
       "      <td>...</td>\n",
       "    </tr>\n",
       "    <tr>\n",
       "      <th>4898</th>\n",
       "      <td>Zimbabwe</td>\n",
       "      <td>ZW</td>\n",
       "      <td>ZWE</td>\n",
       "      <td>716</td>\n",
       "      <td>AFR</td>\n",
       "      <td>2008</td>\n",
       "      <td>12784041</td>\n",
       "      <td>445.0</td>\n",
       "      <td>56.0</td>\n",
       "      <td>1228.0</td>\n",
       "      <td>...</td>\n",
       "      <td>574.00</td>\n",
       "      <td>447.00</td>\n",
       "      <td>716.00</td>\n",
       "      <td>73000.0</td>\n",
       "      <td>57000.0</td>\n",
       "      <td>92000.0</td>\n",
       "      <td>Surveillance</td>\n",
       "      <td>40.0</td>\n",
       "      <td>32.0</td>\n",
       "      <td>51.0</td>\n",
       "    </tr>\n",
       "    <tr>\n",
       "      <th>4899</th>\n",
       "      <td>Zimbabwe</td>\n",
       "      <td>ZW</td>\n",
       "      <td>ZWE</td>\n",
       "      <td>716</td>\n",
       "      <td>AFR</td>\n",
       "      <td>2009</td>\n",
       "      <td>12888918</td>\n",
       "      <td>423.0</td>\n",
       "      <td>49.0</td>\n",
       "      <td>1192.0</td>\n",
       "      <td>...</td>\n",
       "      <td>531.00</td>\n",
       "      <td>408.00</td>\n",
       "      <td>670.00</td>\n",
       "      <td>68000.0</td>\n",
       "      <td>53000.0</td>\n",
       "      <td>86000.0</td>\n",
       "      <td>Surveillance</td>\n",
       "      <td>50.0</td>\n",
       "      <td>40.0</td>\n",
       "      <td>65.0</td>\n",
       "    </tr>\n",
       "    <tr>\n",
       "      <th>4900</th>\n",
       "      <td>Zimbabwe</td>\n",
       "      <td>ZW</td>\n",
       "      <td>ZWE</td>\n",
       "      <td>716</td>\n",
       "      <td>AFR</td>\n",
       "      <td>2010</td>\n",
       "      <td>13076978</td>\n",
       "      <td>438.0</td>\n",
       "      <td>70.0</td>\n",
       "      <td>1136.0</td>\n",
       "      <td>...</td>\n",
       "      <td>480.00</td>\n",
       "      <td>371.00</td>\n",
       "      <td>603.00</td>\n",
       "      <td>63000.0</td>\n",
       "      <td>48000.0</td>\n",
       "      <td>79000.0</td>\n",
       "      <td>Surveillance</td>\n",
       "      <td>53.0</td>\n",
       "      <td>43.0</td>\n",
       "      <td>69.0</td>\n",
       "    </tr>\n",
       "    <tr>\n",
       "      <th>4901</th>\n",
       "      <td>Zimbabwe</td>\n",
       "      <td>ZW</td>\n",
       "      <td>ZWE</td>\n",
       "      <td>716</td>\n",
       "      <td>AFR</td>\n",
       "      <td>2011</td>\n",
       "      <td>13358738</td>\n",
       "      <td>458.0</td>\n",
       "      <td>93.0</td>\n",
       "      <td>1107.0</td>\n",
       "      <td>...</td>\n",
       "      <td>433.00</td>\n",
       "      <td>335.00</td>\n",
       "      <td>543.00</td>\n",
       "      <td>58000.0</td>\n",
       "      <td>45000.0</td>\n",
       "      <td>73000.0</td>\n",
       "      <td>Surveillance</td>\n",
       "      <td>48.0</td>\n",
       "      <td>38.0</td>\n",
       "      <td>62.0</td>\n",
       "    </tr>\n",
       "    <tr>\n",
       "      <th>4902</th>\n",
       "      <td>Zimbabwe</td>\n",
       "      <td>ZW</td>\n",
       "      <td>ZWE</td>\n",
       "      <td>716</td>\n",
       "      <td>AFR</td>\n",
       "      <td>2012</td>\n",
       "      <td>13724317</td>\n",
       "      <td>433.0</td>\n",
       "      <td>92.0</td>\n",
       "      <td>1034.0</td>\n",
       "      <td>...</td>\n",
       "      <td>399.00</td>\n",
       "      <td>308.00</td>\n",
       "      <td>501.00</td>\n",
       "      <td>55000.0</td>\n",
       "      <td>42000.0</td>\n",
       "      <td>69000.0</td>\n",
       "      <td>Surveillance</td>\n",
       "      <td>46.0</td>\n",
       "      <td>37.0</td>\n",
       "      <td>60.0</td>\n",
       "    </tr>\n",
       "  </tbody>\n",
       "</table>\n",
       "<p>4903 rows × 39 columns</p>\n",
       "</div>"
      ],
      "text/plain": [
       "          country iso2 iso3  iso_numeric g_whoregion  year  e_pop_num  \\\n",
       "0     Afghanistan   AF  AFG            4         EMR  1990   11731193   \n",
       "1     Afghanistan   AF  AFG            4         EMR  1991   12612043   \n",
       "2     Afghanistan   AF  AFG            4         EMR  1992   13811876   \n",
       "3     Afghanistan   AF  AFG            4         EMR  1993   15175325   \n",
       "4     Afghanistan   AF  AFG            4         EMR  1994   16485018   \n",
       "...           ...  ...  ...          ...         ...   ...        ...   \n",
       "4898     Zimbabwe   ZW  ZWE          716         AFR  2008   12784041   \n",
       "4899     Zimbabwe   ZW  ZWE          716         AFR  2009   12888918   \n",
       "4900     Zimbabwe   ZW  ZWE          716         AFR  2010   13076978   \n",
       "4901     Zimbabwe   ZW  ZWE          716         AFR  2011   13358738   \n",
       "4902     Zimbabwe   ZW  ZWE          716         AFR  2012   13724317   \n",
       "\n",
       "      e_prev_100k  e_prev_100k_lo  e_prev_100k_hi  ...  e_inc_tbhiv_100k  \\\n",
       "0           327.0           112.0           655.0  ...              0.35   \n",
       "1           359.0           172.0           613.0  ...              0.36   \n",
       "2           387.0           169.0           693.0  ...              0.37   \n",
       "3           412.0           186.0           724.0  ...              0.38   \n",
       "4           431.0           199.0           751.0  ...              0.40   \n",
       "...           ...             ...             ...  ...               ...   \n",
       "4898        445.0            56.0          1228.0  ...            574.00   \n",
       "4899        423.0            49.0          1192.0  ...            531.00   \n",
       "4900        438.0            70.0          1136.0  ...            480.00   \n",
       "4901        458.0            93.0          1107.0  ...            433.00   \n",
       "4902        433.0            92.0          1034.0  ...            399.00   \n",
       "\n",
       "      e_inc_tbhiv_100k_lo  e_inc_tbhiv_100k_hi  e_inc_tbhiv_num  \\\n",
       "0                    0.22                 0.52             41.0   \n",
       "1                    0.19                 0.58             45.0   \n",
       "2                    0.19                 0.62             51.0   \n",
       "3                    0.20                 0.63             58.0   \n",
       "4                    0.21                 0.64             65.0   \n",
       "...                   ...                  ...              ...   \n",
       "4898               447.00               716.00          73000.0   \n",
       "4899               408.00               670.00          68000.0   \n",
       "4900               371.00               603.00          63000.0   \n",
       "4901               335.00               543.00          58000.0   \n",
       "4902               308.00               501.00          55000.0   \n",
       "\n",
       "      e_inc_tbhiv_num_lo  e_inc_tbhiv_num_hi  source_tbhiv  c_cdr  c_cdr_lo  \\\n",
       "0                   25.0                60.0         Model   20.0      13.0   \n",
       "1                   24.0                73.0         Model   97.0      77.0   \n",
       "2                   26.0                86.0         Model    NaN       NaN   \n",
       "3                   30.0                95.0         Model    NaN       NaN   \n",
       "4                   35.0               100.0         Model    NaN       NaN   \n",
       "...                  ...                 ...           ...    ...       ...   \n",
       "4898             57000.0             92000.0  Surveillance   40.0      32.0   \n",
       "4899             53000.0             86000.0  Surveillance   50.0      40.0   \n",
       "4900             48000.0             79000.0  Surveillance   53.0      43.0   \n",
       "4901             45000.0             73000.0  Surveillance   48.0      38.0   \n",
       "4902             42000.0             69000.0  Surveillance   46.0      37.0   \n",
       "\n",
       "     c_cdr_hi  \n",
       "0        32.0  \n",
       "1       120.0  \n",
       "2         NaN  \n",
       "3         NaN  \n",
       "4         NaN  \n",
       "...       ...  \n",
       "4898     51.0  \n",
       "4899     65.0  \n",
       "4900     69.0  \n",
       "4901     62.0  \n",
       "4902     60.0  \n",
       "\n",
       "[4903 rows x 39 columns]"
      ]
     },
     "execution_count": 4,
     "metadata": {},
     "output_type": "execute_result"
    }
   ],
   "source": [
    "df2"
   ]
  },
  {
   "cell_type": "markdown",
   "metadata": {},
   "source": [
    "### Pick one of the columns from the Tuberculosis data and compare to a normal distribution"
   ]
  },
  {
   "cell_type": "code",
   "execution_count": null,
   "metadata": {},
   "outputs": [],
   "source": [
    "normalized=(df2['e_prev_100k']-np.min(df2['e_prev_100k']))/(np.max(df2['e_prev_100k'])-np.min(df2['e_prev_100k']))"
   ]
  },
  {
   "cell_type": "code",
   "execution_count": 71,
   "metadata": {},
   "outputs": [],
   "source": [
    "mean = np.mean(normalized)\n",
    "sd=np.std(normalized)\n",
    "s = np.random.normal(mean, sd,1000 )\n",
    "\n"
   ]
  },
  {
   "cell_type": "markdown",
   "metadata": {},
   "source": []
  },
  {
   "cell_type": "code",
   "execution_count": 85,
   "metadata": {},
   "outputs": [
    {
     "data": {
      "text/plain": [
       "True"
      ]
     },
     "execution_count": 85,
     "metadata": {},
     "output_type": "execute_result"
    }
   ],
   "source": [
    "abs(mean - np.mean(s)) <0.01"
   ]
  },
  {
   "cell_type": "code",
   "execution_count": 86,
   "metadata": {},
   "outputs": [
    {
     "data": {
      "text/plain": [
       "True"
      ]
     },
     "execution_count": 86,
     "metadata": {},
     "output_type": "execute_result"
    }
   ],
   "source": [
    "abs(sd - np.std(s, ddof=1)) < 0.01"
   ]
  },
  {
   "cell_type": "code",
   "execution_count": 118,
   "metadata": {},
   "outputs": [
    {
     "data": {
      "image/png": "[encoded data removed]",
      "text/plain": [
       "<Figure size 432x288 with 1 Axes>"
      ]
     },
     "metadata": {
      "needs_background": "light"
     },
     "output_type": "display_data"
    }
   ],
   "source": [
    "count, bins, ignored = plt.hist(s, 30, density=True, stacked=True)\n",
    "plt.plot(bins, 1/(sd * np.sqrt(2 * np.pi)) *\n",
    "               np.exp( - (bins - mean)**2 / (2 * sd**2) ),\n",
    "          linewidth=2, color='r')\n",
    "plt.show()"
   ]
  },
  {
   "cell_type": "code",
   "execution_count": 88,
   "metadata": {},
   "outputs": [],
   "source": [
    "y_pdf = norm.pdf(df2.e_prev_100k,0,1)"
   ]
  },
  {
   "cell_type": "code",
   "execution_count": 83,
   "metadata": {},
   "outputs": [
    {
     "data": {
      "image/png": "[encoded data removed]",
      "text/plain": [
       "<Figure size 432x288 with 1 Axes>"
      ]
     },
     "metadata": {
      "needs_background": "light"
     },
     "output_type": "display_data"
    }
   ],
   "source": [
    "sm.qqplot(s, fit=True,line='45')\n",
    "plt.show()"
   ]
  },
  {
   "cell_type": "markdown",
   "metadata": {},
   "source": [
    "### Distributions & Sampling & Robust Statistics"
   ]
  },
  {
   "cell_type": "code",
   "execution_count": 121,
   "metadata": {},
   "outputs": [],
   "source": [
    "mean = np.mean(normalized)\n",
    "sd=np.std(normalized)\n",
    "s1 = np.random.normal(mean, sd,5 )\n",
    "s2 = np.random.normal(mean, sd*2,10 )\n",
    "s3 = np.random.normal(mean, sd*4,100 )"
   ]
  },
  {
   "cell_type": "code",
   "execution_count": 116,
   "metadata": {},
   "outputs": [
    {
     "data": {
      "text/plain": [
       "[<matplotlib.lines.Line2D at 0x29608534880>]"
      ]
     },
     "execution_count": 116,
     "metadata": {},
     "output_type": "execute_result"
    },
    {
     "data": {
      "image/png": "[encoded data removed]",
      "text/plain": [
       "<Figure size 432x288 with 1 Axes>"
      ]
     },
     "metadata": {
      "needs_background": "light"
     },
     "output_type": "display_data"
    }
   ],
   "source": []
  },
  {
   "cell_type": "code",
   "execution_count": 120,
   "metadata": {},
   "outputs": [
    {
     "data": {
      "text/plain": [
       "Text(0.5, 1.0, 'Normal Distributions')"
      ]
     },
     "execution_count": 120,
     "metadata": {},
     "output_type": "execute_result"
    },
    {
     "data": {
      "image/png": "[encoded data removed]",
      "text/plain": [
       "<Figure size 432x288 with 1 Axes>"
      ]
     },
     "metadata": {
      "needs_background": "light"
     },
     "output_type": "display_data"
    }
   ],
   "source": [
    "x = np.arange(-5, 5, 0.001)\n",
    "\n",
    "#define multiple normal distributions\n",
    "plt.plot(x, norm.pdf(x, 0, 1), label='μ: 0, σ: 1', color='gold')\n",
    "plt.plot(x, norm.pdf(x, 0, 1.5), label='μ:0, σ: 1.5', color='red')\n",
    "plt.plot(x, norm.pdf(x, 0, 2), label='μ:0, σ: 2', color='pink')\n",
    "\n",
    "#add legend to plot\n",
    "plt.legend(title='Parameters')\n",
    "\n",
    "#add axes labels and a title\n",
    "plt.ylabel('Density')\n",
    "plt.xlabel('x')\n",
    "plt.title('Normal Distributions', fontsize=14)"
   ]
  },
  {
   "cell_type": "code",
   "execution_count": null,
   "metadata": {},
   "outputs": [],
   "source": []
  }
 ],
 "metadata": {
  "kernelspec": {
   "display_name": "Python 3 (ipykernel)",
   "language": "python",
   "name": "python3"
  },
  "language_info": {
   "codemirror_mode": {
    "name": "ipython",
    "version": 3
   },
   "file_extension": ".py",
   "mimetype": "text/x-python",
   "name": "python",
   "nbconvert_exporter": "python",
   "pygments_lexer": "ipython3",
   "version": "3.9.12"
  },
  "orig_nbformat": 4
 },
 "nbformat": 4,
 "nbformat_minor": 2
}
